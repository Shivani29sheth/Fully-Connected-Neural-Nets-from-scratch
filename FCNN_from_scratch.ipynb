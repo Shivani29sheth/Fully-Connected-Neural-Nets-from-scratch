{
  "nbformat": 4,
  "nbformat_minor": 0,
  "metadata": {
    "colab": {
      "name": "FCNN_from_scratch.ipynb",
      "provenance": []
    },
    "kernelspec": {
      "name": "python3",
      "display_name": "Python 3"
    },
    "accelerator": "GPU"
  },
  "cells": [
    {
      "cell_type": "markdown",
      "metadata": {
        "id": "bt45vvpF9-WD"
      },
      "source": [
        "# Fully Connected Neural Networks from scratch"
      ]
    },
    {
      "cell_type": "markdown",
      "metadata": {
        "id": "gZbrmIBR-Cwy"
      },
      "source": [
        "**Aim:** <br>\n",
        "\n",
        "Use the MNIST data set and implement the forward\n",
        "and backward passes for fully-connected deep neural networks from scratch."
      ]
    },
    {
      "cell_type": "markdown",
      "metadata": {
        "id": "Ob6dDCO9-qOx"
      },
      "source": [
        "**Model Explanation:** <br>\n",
        "\n",
        "First, let us preprocess the data. We load the training and testing data from the MNIST\n",
        "dataset, consisting of 60,000 training images + labels, and 10,000 testing images + labels. Next,\n",
        "we normalize the image data by dividing each pixel by 255.0 and reshape the labels. Now, we\n",
        "encode the class value of the labels into one-hot vectors to avoid bias implied by the label\n",
        "value."
      ]
    },
    {
      "cell_type": "code",
      "metadata": {
        "id": "9X03dnmPHfUm",
        "colab": {
          "base_uri": "https://localhost:8080/"
        },
        "outputId": "b5b2e8f3-7861-4e15-f7bd-186c37c6d216"
      },
      "source": [
        "import sklearn\n",
        "from keras.datasets import mnist\n",
        "from sklearn.metrics import classification_report, confusion_matrix\n",
        "import numpy as np\n",
        "\n",
        "# import\n",
        "(train_X, train_y), (test_X, test_y) = mnist.load_data()\n",
        "\n",
        "# scale\n",
        "train_X = train_X.astype(np.float16) / 255.0\n",
        "test_X = test_X.astype(np.float16) / 255.0\n",
        "\n",
        "# reshape\n",
        "train_y = np.array(train_y, dtype = np.float16)\n",
        "train_y = train_y.reshape(train_y.shape[0],1)\n",
        "\n",
        "test_y = np.array(test_y, dtype = np.float16)\n",
        "test_y = test_y.reshape(test_y.shape[0],1)\n"
      ],
      "execution_count": null,
      "outputs": [
        {
          "output_type": "stream",
          "text": [
            "Downloading data from https://storage.googleapis.com/tensorflow/tf-keras-datasets/mnist.npz\n",
            "11493376/11490434 [==============================] - 0s 0us/step\n"
          ],
          "name": "stdout"
        }
      ]
    },
    {
      "cell_type": "code",
      "metadata": {
        "colab": {
          "base_uri": "https://localhost:8080/"
        },
        "id": "BRMIwFaLWTAe",
        "outputId": "945c33a2-3e0b-4fd3-86fc-79700eea1e01"
      },
      "source": [
        "print(train_X.shape)\n",
        "print(test_X.shape)\n",
        "print(train_y.shape)\n",
        "print(test_y.shape)\n",
        "print(np.unique(train_y))\n",
        "print(np.unique(test_y))"
      ],
      "execution_count": null,
      "outputs": [
        {
          "output_type": "stream",
          "text": [
            "(60000, 28, 28)\n",
            "(10000, 28, 28)\n",
            "(60000, 1)\n",
            "(10000, 1)\n",
            "[0. 1. 2. 3. 4. 5. 6. 7. 8. 9.]\n",
            "[0. 1. 2. 3. 4. 5. 6. 7. 8. 9.]\n"
          ],
          "name": "stdout"
        }
      ]
    },
    {
      "cell_type": "code",
      "metadata": {
        "id": "C63MmzDYPPvU"
      },
      "source": [
        "def one_hot_encode(j):\n",
        "    # Convert the labels to a one-hot encoding scheme.\n",
        "    e = np.zeros((10, 1))\n",
        "    e[j] = 1.0\n",
        "    return e\n",
        "\n",
        "training_inputs = [np.reshape(x, (784, 1)) for x in train_X]\n",
        "training_results = [one_hot_encode(int(y)) for y in train_y]\n",
        "training_data = [list(a) for a in zip(training_inputs, training_results)]\n",
        "\n",
        "test_inputs = [np.reshape(x, (784, 1)) for x in test_X]\n",
        "test_results = [one_hot_encode(int(y)) for y in test_y]\n",
        "test_data = [list(a) for a in zip(test_inputs, test_results)]"
      ],
      "execution_count": null,
      "outputs": []
    },
    {
      "cell_type": "code",
      "metadata": {
        "colab": {
          "base_uri": "https://localhost:8080/"
        },
        "id": "-3KHEjc4QRgs",
        "outputId": "b47cd274-fdfd-46aa-d395-44883b92bebf"
      },
      "source": [
        "print(type(training_data))\n",
        "print(len(training_data))\n",
        "print(type(test_results))\n",
        "print(len(test_results))"
      ],
      "execution_count": null,
      "outputs": [
        {
          "output_type": "stream",
          "text": [
            "<class 'list'>\n",
            "60000\n",
            "<class 'list'>\n",
            "10000\n"
          ],
          "name": "stdout"
        }
      ]
    },
    {
      "cell_type": "markdown",
      "metadata": {
        "id": "VL2VOI8u-_xm"
      },
      "source": [
        "Now, to build the model, we define a class named as Network which initializes the number of\n",
        "layers, number of nodes in a layer, weights, and biases of the network. Next, we define the\n",
        "forward and backward pass of backpropagation together in a function named as ’backprop’.\n",
        "For the forward pass, we compute the sublinear layer as z = wx + b and then apply the\n",
        "Sigmoid activation function for the last layer and ReLu activation function for all other layers\n",
        "to compute the activations, given by a = Relu(z) or a = Sigmoid(z). For the backward pass,\n",
        "we compute the error term for the last layer by multiplying the cost gradient and the gradient\n",
        "for the Sigmoid activation function. For all other layers from the second last layer to the first\n",
        "layer, we compute the error term by multiplying the cost gradient and the gradient for the\n",
        "Relu activation function. Then, we update the weights and bias in the backward pass given\n",
        "by: dw<sup>(l)</sup> = e<sup>(l)</sup>\n",
        "z<sub>(l−1)</sub><sup>T</sup>\n",
        "and db<sup>(l)</sup> = e<sup>(l)</sup>. This completes the backprop.\n"
      ]
    },
    {
      "cell_type": "markdown",
      "metadata": {
        "id": "_0i-aiorBSGE"
      },
      "source": [
        "Now, to train the model, we first create a network with 2 hidden layers given by\n",
        "Network([784, 30, 30, 10]) where the first parameter is the dimension of the input data and\n",
        "hence the first layer is the input layer, the second and third layers correspond to the hidden\n",
        "layers with 30 neurons each, and the fourth layer corresponds to the output layer with 10\n",
        "nodes corresponding to the 10 class labels. Next, we call the sgd function which creates mini\n",
        "batches for the data and passes to the ’update mini batch’ function. The update mini batch function initiates backpropagation for each data point in the mini batch and updates the\n",
        "weights and biases of the network. Finally, the error and accuracy are calculated in the sgd\n",
        "function and are printed with respect to each epoch. The losses and accuracies of each epoch\n",
        "are also appended in an array and returned so that the learning curve of the model can be\n",
        "visualized. After trial and error, the best results for this model were obtained by keeping the\n",
        "learning rate = 1.0, the batch size = 10, and the number of epochs were restricted to 10 for\n",
        "faster training of the model. As a side note, the learning rate reduces to ’0.1’ since the weights\n",
        "and biases are updated by a factor of (learning rate/batch size) . A higher accuracy can be achieved by\n",
        "increasing the number of epochs and lowering the learning rate which could result in slow\n",
        "computations. The results for the model were achieved as given below where we obtain an\n",
        "accuracy of 95% on the train data and 94% on the test data."
      ]
    },
    {
      "cell_type": "code",
      "metadata": {
        "colab": {
          "base_uri": "https://localhost:8080/"
        },
        "id": "IsSe0H3jGtiV",
        "outputId": "13f2f478-ae59-4fc0-df9d-10264dc83c0e"
      },
      "source": [
        "import random\n",
        "import numpy as np\n",
        "\n",
        "class Network(object):\n",
        "\n",
        "    def __init__(self, sizes):\n",
        "\n",
        "        # Initializin weights and biases for all layers. Number of layers = the length of the list 'sizes'\n",
        "        # and number of nodes = each value in the list 'sizes'.\n",
        "        self.num_layers = len(sizes)\n",
        "        self.sizes = sizes\n",
        "        self.biases = [np.random.randn(y, 1) for y in sizes[1:]]\n",
        "        self.weights = [np.random.randn(y, x) for x, y in zip(sizes[:-1], sizes[1:])]\n",
        "\n",
        "\n",
        "    def SGD(self, training_data, epochs, mini_batch_size, eta, test_data=None):\n",
        "\n",
        "        if test_data: \n",
        "            n_test = len(test_data)\n",
        "\n",
        "        n = len(training_data)\n",
        "        train_error = []\n",
        "        test_error = []\n",
        "        train_acc = []\n",
        "        test_acc = []\n",
        "\n",
        "        for j in range(epochs):\n",
        "\n",
        "            random.shuffle(training_data)\n",
        "            mini_batches = [training_data[k:k+mini_batch_size] for k in range(0, n, mini_batch_size)]\n",
        "            for mini_batch in mini_batches:\n",
        "                self.update_mini_batch(mini_batch, eta)\n",
        "\n",
        "            train_score = self.evaluate(training_data)\n",
        "            t_a = (train_score / n)*100\n",
        "            t_e = ((n - train_score) / n) *100\n",
        "            string = \"Epoch {0}: Train acc: {1} , Train loss: {2} \".format(j, t_a , t_e )\n",
        "            train_acc.append(t_a)\n",
        "            train_error.append(t_e)\n",
        "\n",
        "            if test_data:\n",
        "                test_score = self.evaluate(test_data)\n",
        "                te_a = (test_score/ n_test) * 100\n",
        "                te_e = ((n_test - test_score) / n_test ) * 100\n",
        "                string += \", Test acc: {0} , Test Loss: {1} \\n\".format(te_a , te_e)\n",
        "                test_acc.append(te_a)\n",
        "                test_error.append(te_e)\n",
        "\n",
        "            print(string)\n",
        "\n",
        "        return train_error, test_error, train_acc, test_acc\n",
        "\n",
        "\n",
        "    def update_mini_batch(self, mini_batch, eta):\n",
        "  \n",
        "        db = [np.zeros(b.shape) for b in self.biases]\n",
        "        dw = [np.zeros(w.shape) for w in self.weights]\n",
        "\n",
        "        for x, y in mini_batch:\n",
        "            delta_db, delta_dw = self.backprop(x, y)\n",
        "            db = [nb+dnb for nb, dnb in zip(db, delta_db)]\n",
        "            dw = [nw+dnw for nw, dnw in zip(dw, delta_dw)]\n",
        "\n",
        "        self.weights = [w-(eta/len(mini_batch))*nw\n",
        "                        for w, nw in zip(self.weights, dw)]\n",
        "        self.biases = [b-(eta/len(mini_batch))*nb\n",
        "                       for b, nb in zip(self.biases, db)]\n",
        "\n",
        "    def backprop(self, x, y):\n",
        "\n",
        "        db = [np.zeros(b.shape) for b in self.biases]\n",
        "        dw = [np.zeros(w.shape) for w in self.weights]\n",
        "\n",
        "        # feedforward\n",
        "        activation = x\n",
        "        activations = [x] \n",
        "        zs = [] \n",
        "\n",
        "        for b, w in zip(self.biases, self.weights):\n",
        "            z = np.dot(w, activation)+b\n",
        "            zs.append(z)\n",
        "            activation = Sigmoid(z)\n",
        "            activations.append(activation)\n",
        "\n",
        "\n",
        "        # backward pass\n",
        "        delta = self.cost_derivative(activations[-1], y) * dSigmoid(zs[-1])\n",
        "        db[-1] = delta\n",
        "        dw[-1] = np.dot(delta, activations[-2].transpose())\n",
        "\n",
        "        # Here, l = 2 is the second-last layer, l = 3 is the third last layer and so on.  \n",
        "        for l in range(2, self.num_layers):\n",
        "            z = zs[-l]\n",
        "            sp = dSigmoid(z)\n",
        "            delta = np.dot(self.weights[-l+1].transpose(), delta) * sp\n",
        "            db[-l] = delta\n",
        "            dw[-l] = np.dot(delta, activations[-l-1].transpose())\n",
        "        return (db, dw)\n",
        "\n",
        "    def feedforward(self, a):\n",
        "\n",
        "        for b, w in zip(self.biases, self.weights):\n",
        "            a = Sigmoid(np.dot(w, a)+b)\n",
        "        return a\n",
        "\n",
        "    def evaluate(self, test_data):\n",
        "\n",
        "        # Returns total correct predictions.\n",
        "        test_results = [(np.argmax(self.feedforward(x)), np.where(np.isclose(y, 1.0))[0][0]) for (x, y) in test_data]\n",
        "        return sum(int(x == y) for (x, y) in test_results)\n",
        "\n",
        "    def cost_derivative(self, output_activations, y):\n",
        "        return (output_activations-y)\n",
        "\n",
        "# Activation functions and their derivatives\n",
        "def Sigmoid(x):\n",
        "    return 1.0/(1.0 + np.exp(-x) )\n",
        "\n",
        "def dSigmoid(x):\n",
        "    return Sigmoid(x) * (1-Sigmoid(x))\n",
        "\n",
        "def dRelu(x):\n",
        "    x[x<=0] = 0\n",
        "    x[x>0] = 1\n",
        "    return x\n",
        "\n",
        "def Relu(x):\n",
        "    return np.maximum(0,x)\n",
        "\n",
        "\n",
        "# Calling the model functions\n",
        "net = Network([784, 30, 30, 10])\n",
        "\n",
        "train_error, test_error, train_acc, test_acc = net.SGD(training_data, 10, 10, 1.0, test_data=test_data)\n",
        "\n"
      ],
      "execution_count": null,
      "outputs": [
        {
          "output_type": "stream",
          "text": [
            "Epoch 0: Train acc: 91.27333333333333 , Train loss: 8.726666666666667 , Test acc: 91.28 , Test Loss: 8.72 \n",
            "\n",
            "Epoch 1: Train acc: 92.27833333333334 , Train loss: 7.721666666666667 , Test acc: 91.86 , Test Loss: 8.14 \n",
            "\n",
            "Epoch 2: Train acc: 93.62333333333333 , Train loss: 6.376666666666667 , Test acc: 92.97 , Test Loss: 7.03 \n",
            "\n",
            "Epoch 3: Train acc: 93.90666666666667 , Train loss: 6.093333333333333 , Test acc: 93.16 , Test Loss: 6.84 \n",
            "\n",
            "Epoch 4: Train acc: 94.96833333333333 , Train loss: 5.031666666666667 , Test acc: 94.32000000000001 , Test Loss: 5.680000000000001 \n",
            "\n",
            "Epoch 5: Train acc: 95.44500000000001 , Train loss: 4.555 , Test acc: 94.61 , Test Loss: 5.390000000000001 \n",
            "\n",
            "Epoch 6: Train acc: 95.61666666666667 , Train loss: 4.383333333333334 , Test acc: 94.53 , Test Loss: 5.47 \n",
            "\n",
            "Epoch 7: Train acc: 95.67833333333333 , Train loss: 4.321666666666666 , Test acc: 94.49 , Test Loss: 5.510000000000001 \n",
            "\n",
            "Epoch 8: Train acc: 96.09666666666666 , Train loss: 3.9033333333333338 , Test acc: 94.77 , Test Loss: 5.2299999999999995 \n",
            "\n",
            "Epoch 9: Train acc: 96.17 , Train loss: 3.83 , Test acc: 94.89 , Test Loss: 5.11 \n",
            "\n"
          ],
          "name": "stdout"
        }
      ]
    },
    {
      "cell_type": "markdown",
      "metadata": {
        "id": "HlFBwoiQBo3g"
      },
      "source": [
        "The loss curves for the train and test data were obtained as:"
      ]
    },
    {
      "cell_type": "code",
      "metadata": {
        "colab": {
          "base_uri": "https://localhost:8080/",
          "height": 299
        },
        "id": "QnZ0fTjhZEGP",
        "outputId": "142fb12f-08ca-4ea6-b3cc-84792f21b9dc"
      },
      "source": [
        "import matplotlib.pyplot as plt\n",
        "#visualizing the change in error function\n",
        "plt.plot(train_error) \n",
        "plt.title(\"Training Loss\",size=18)\n",
        "plt.xlabel(\"Number of iterations\") \n",
        "plt.ylabel(\"Training Loss\") \n",
        "plt.show() "
      ],
      "execution_count": null,
      "outputs": [
        {
          "output_type": "display_data",
          "data": {
            "image/png": "[encoded data removed]",
            "text/plain": [
              "<Figure size 432x288 with 1 Axes>"
            ]
          },
          "metadata": {
            "tags": [],
            "needs_background": "light"
          }
        }
      ]
    },
    {
      "cell_type": "code",
      "metadata": {
        "colab": {
          "base_uri": "https://localhost:8080/",
          "height": 299
        },
        "id": "pNLvw6j-MP_D",
        "outputId": "db2f87b8-b9cd-49cd-a8ff-659ece479df7"
      },
      "source": [
        "import matplotlib.pyplot as plt\n",
        "#visualizing the change in error function\n",
        "plt.plot(test_error) \n",
        "plt.title(\"Test Loss\",size=18)\n",
        "plt.xlabel(\"Number of iterations\") \n",
        "plt.ylabel(\"Test Loss\") \n",
        "plt.show() "
      ],
      "execution_count": null,
      "outputs": [
        {
          "output_type": "display_data",
          "data": {
            "image/png": "[encoded data removed]",
            "text/plain": [
              "<Figure size 432x288 with 1 Axes>"
            ]
          },
          "metadata": {
            "tags": [],
            "needs_background": "light"
          }
        }
      ]
    },
    {
      "cell_type": "markdown",
      "metadata": {
        "id": "1vamktXpBw35"
      },
      "source": [
        "Here, as we see, the loss for the train and test data decreases monotonically over each epoch\n",
        "and thus increases the performance of the model."
      ]
    },
    {
      "cell_type": "markdown",
      "metadata": {
        "id": "u6FEJcXcBzmo"
      },
      "source": [
        "Similarly, we can see that the accuracies of both the train and test data also increase\n",
        "monotonically, thus signifying an increase in the performance of the model."
      ]
    },
    {
      "cell_type": "code",
      "metadata": {
        "colab": {
          "base_uri": "https://localhost:8080/",
          "height": 299
        },
        "id": "F7FOsdkVMQwO",
        "outputId": "9aaed7f0-32c6-46cf-bf52-c8e198200893"
      },
      "source": [
        "import matplotlib.pyplot as plt\n",
        "#visualizing the change in error function\n",
        "plt.plot(train_acc) \n",
        "plt.title(\"Training Accuracy\",size=18)\n",
        "plt.xlabel(\"Number of iterations\") \n",
        "plt.ylabel(\"Training Accuracy\") \n",
        "plt.show() "
      ],
      "execution_count": null,
      "outputs": [
        {
          "output_type": "display_data",
          "data": {
            "image/png": "[encoded data removed]",
            "text/plain": [
              "<Figure size 432x288 with 1 Axes>"
            ]
          },
          "metadata": {
            "tags": [],
            "needs_background": "light"
          }
        }
      ]
    },
    {
      "cell_type": "code",
      "metadata": {
        "colab": {
          "base_uri": "https://localhost:8080/",
          "height": 299
        },
        "id": "1V3jFt-yMRHC",
        "outputId": "1fcfdc69-f577-4ea7-fdd9-87ddc0bd1975"
      },
      "source": [
        "import matplotlib.pyplot as plt\n",
        "#visualizing the change in error function\n",
        "plt.plot(test_acc) \n",
        "plt.title(\"Test Accuracy\",size=18)\n",
        "plt.xlabel(\"Number of iterations\") \n",
        "plt.ylabel(\"Test Accuracy\") \n",
        "plt.show() "
      ],
      "execution_count": null,
      "outputs": [
        {
          "output_type": "display_data",
          "data": {
            "image/png": "[encoded data removed]",
            "text/plain": [
              "<Figure size 432x288 with 1 Axes>"
            ]
          },
          "metadata": {
            "tags": [],
            "needs_background": "light"
          }
        }
      ]
    },
    {
      "cell_type": "code",
      "metadata": {
        "id": "2HRiZYKHmEX3"
      },
      "source": [
        ""
      ],
      "execution_count": null,
      "outputs": []
    }
  ]
}